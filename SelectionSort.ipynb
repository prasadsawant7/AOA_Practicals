{
  "nbformat": 4,
  "nbformat_minor": 0,
  "metadata": {
    "colab": {
      "provenance": [],
      "authorship_tag": "ABX9TyPW1KZEOvr4Q+/42ysXq+CL",
      "include_colab_link": true
    },
    "kernelspec": {
      "name": "python3",
      "display_name": "Python 3"
    },
    "language_info": {
      "name": "python"
    }
  },
  "cells": [
    {
      "cell_type": "markdown",
      "metadata": {
        "id": "view-in-github",
        "colab_type": "text"
      },
      "source": [
        "<a href=\"https://colab.research.google.com/github/prasadsawant7/AOA_Practicals/blob/main/SelectionSort.ipynb\" target=\"_parent\"><img src=\"https://colab.research.google.com/assets/colab-badge.svg\" alt=\"Open In Colab\"/></a>"
      ]
    },
    {
      "cell_type": "code",
      "execution_count": 1,
      "metadata": {
        "colab": {
          "base_uri": "https://localhost:8080/"
        },
        "id": "zhAlkgIcTpdI",
        "outputId": "1c1ec12a-07f6-4a97-c3e2-a40ee75c148b"
      },
      "outputs": [
        {
          "output_type": "stream",
          "name": "stdout",
          "text": [
            "[0, 2, 17, 20, 21, 23, 26, 36, 37, 38, 38, 40, 45, 46, 47, 58, 58, 62, 64, 68, 69, 70, 70, 70, 76, 85, 85, 88, 93, 94]\n"
          ]
        }
      ],
      "source": [
        "nums = [88, 2, 76, 17, 70, 58, 40, 47, 93, 69, 38, 20, 94, 38, 0, 85, 70, 62, 21, 58, 46, 45, 36, 26, 37, 70, 85, 68, 64, 23]\n",
        "\n",
        "def selectionSort(array, size):\n",
        "   \n",
        "    for step in range(size):\n",
        "        min_idx = step\n",
        "\n",
        "        for i in range(step + 1, size):\n",
        "            if array[i] < array[min_idx]:\n",
        "                min_idx = i\n",
        "         \n",
        "        (array[step], array[min_idx]) = (array[min_idx], array[step])\n",
        "\n",
        "selectionSort(nums , len(nums))\n",
        "print(nums)"
      ]
    }
  ]
}