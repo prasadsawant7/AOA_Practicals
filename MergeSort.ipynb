{
  "nbformat": 4,
  "nbformat_minor": 0,
  "metadata": {
    "colab": {
      "provenance": [],
      "authorship_tag": "ABX9TyOEjb6Nj4IHyAVteFoaTqqn",
      "include_colab_link": true
    },
    "kernelspec": {
      "name": "python3",
      "display_name": "Python 3"
    },
    "language_info": {
      "name": "python"
    }
  },
  "cells": [
    {
      "cell_type": "markdown",
      "metadata": {
        "id": "view-in-github",
        "colab_type": "text"
      },
      "source": [
        "<a href=\"https://colab.research.google.com/github/prasadsawant7/AOA_Practicals/blob/main/MergeSort.ipynb\" target=\"_parent\"><img src=\"https://colab.research.google.com/assets/colab-badge.svg\" alt=\"Open In Colab\"/></a>"
      ]
    },
    {
      "cell_type": "code",
      "execution_count": 5,
      "metadata": {
        "colab": {
          "base_uri": "https://localhost:8080/"
        },
        "id": "7CUbVM4tDV5n",
        "outputId": "42518e33-3729-4a98-dc09-0370f2528e49"
      },
      "outputs": [
        {
          "output_type": "stream",
          "name": "stdout",
          "text": [
            "[1, 2, 3, 4, 5, 6, 7, 8, 9]\n"
          ]
        }
      ],
      "source": [
        "nums = [4, 9, 2, 7, 1, 8, 3, 5, 6]\n",
        "\n",
        "def mergeSort(arr):\n",
        "  if len(arr) > 1:\n",
        "    mid = len(arr)//2\n",
        "\n",
        "    L = arr[:mid]\n",
        "    R = arr[mid:]\n",
        "\n",
        "    mergeSort(L)\n",
        "    mergeSort(R)\n",
        "\n",
        "    i = j = k = 0\n",
        "\n",
        "    while i < len(L) and j < len(R):\n",
        "      if L[i] <= R[j]:\n",
        "        arr[k] = L[i]\n",
        "        i += 1\n",
        "      else:\n",
        "        arr[k] = R[j]\n",
        "        j += 1\n",
        "      k += 1\n",
        "    while i < len(L):\n",
        "            arr[k] = L[i]\n",
        "            i += 1\n",
        "            k += 1\n",
        "  \n",
        "    while j < len(R):\n",
        "            arr[k] = R[j]\n",
        "            j += 1\n",
        "            k += 1\n",
        "\n",
        "  return arr\n",
        "\n",
        "print(mergeSort(nums))"
      ]
    }
  ]
}